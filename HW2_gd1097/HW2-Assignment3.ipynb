{
 "cells": [
  {
   "cell_type": "code",
   "execution_count": 3,
   "metadata": {
    "collapsed": false
   },
   "outputs": [
    {
     "name": "stderr",
     "output_type": "stream",
     "text": [
      "/opt/rh/anaconda/root/envs/PUI2016_Python3/lib/python3.5/site-packages/matplotlib/font_manager.py:273: UserWarning: Matplotlib is building the font cache using fc-list. This may take a moment.\n",
      "  warnings.warn('Matplotlib is building the font cache using fc-list. This may take a moment.')\n",
      "/opt/rh/anaconda/root/envs/PUI2016_Python3/lib/python3.5/site-packages/matplotlib/font_manager.py:273: UserWarning: Matplotlib is building the font cache using fc-list. This may take a moment.\n",
      "  warnings.warn('Matplotlib is building the font cache using fc-list. This may take a moment.')\n"
     ]
    }
   ],
   "source": [
    "from __future__ import division, print_function\n",
    "__author__= \"bb CUSP 2017\"\n",
    "import os\n",
    "import numpy as np\n",
    "import pylab as pl\n",
    "import pandas as pd"
   ]
  },
  {
   "cell_type": "code",
   "execution_count": 4,
   "metadata": {
    "collapsed": false
   },
   "outputs": [
    {
     "name": "stdout",
     "output_type": "stream",
     "text": [
      "Populating the interactive namespace from numpy and matplotlib\n"
     ]
    }
   ],
   "source": [
    "# setting up some preferences\n",
    "%pylab inline\n",
    "\n",
    "np.set_printoptions(precision=4, threshold=500)\n",
    "np.random.seed(910)\n",
    "pl.rc('figure', figsize=(10, 6))\n",
    "pl.rc('font', size=15)\n",
    "pd.options.display.max_rows = 100"
   ]
  },
  {
   "cell_type": "code",
   "execution_count": 5,
   "metadata": {
    "collapsed": true
   },
   "outputs": [],
   "source": [
    "DFData=os.getenv(\"DFDATA\")"
   ]
  },
  {
   "cell_type": "code",
   "execution_count": 6,
   "metadata": {
    "collapsed": false
   },
   "outputs": [
    {
     "name": "stdout",
     "output_type": "stream",
     "text": [
      "/gws/open/NYCOpenData/nycopendata/data\n"
     ]
    }
   ],
   "source": [
    "print(DFData)\n"
   ]
  },
  {
   "cell_type": "code",
   "execution_count": 7,
   "metadata": {
    "collapsed": true
   },
   "outputs": [],
   "source": [
    "link=(DFData+\"/3nja-bsch/1414245865/3nja-bsch\")\n"
   ]
  },
  {
   "cell_type": "code",
   "execution_count": 8,
   "metadata": {
    "collapsed": true
   },
   "outputs": [],
   "source": [
    "datalib=pd.read_csv(link)\n"
   ]
  },
  {
   "cell_type": "code",
   "execution_count": 9,
   "metadata": {
    "collapsed": false
   },
   "outputs": [
    {
     "data": {
      "text/html": [
       "<div>\n",
       "<table border=\"1\" class=\"dataframe\">\n",
       "  <thead>\n",
       "    <tr style=\"text-align: right;\">\n",
       "      <th></th>\n",
       "      <th>Boro/Central Library</th>\n",
       "      <th>Network</th>\n",
       "      <th>Branch</th>\n",
       "      <th>ADULT Program</th>\n",
       "      <th>ADULT Attendance</th>\n",
       "      <th>YOUNG ADULT Program</th>\n",
       "      <th>YOUNG ADULT Attendance</th>\n",
       "      <th>JUVENILE Program</th>\n",
       "      <th>JUVENILE Attendance</th>\n",
       "      <th>OUTREACH SERVICES Program</th>\n",
       "      <th>...</th>\n",
       "      <th>TOTAL Attendance</th>\n",
       "      <th>REFERENCE TRANSACTIONS Adult</th>\n",
       "      <th>REFERENCE TRANSACTIONS Young Adult</th>\n",
       "      <th>REFERENCE TRANSACTIONS Juvenile</th>\n",
       "      <th>REFERENCE TRANSACTIONS</th>\n",
       "      <th>CIRCULATION Adult</th>\n",
       "      <th>CIRCULATION Young Adult</th>\n",
       "      <th>CIRCULATION Juvenile</th>\n",
       "      <th>CIRCULATION</th>\n",
       "      <th>Weekly Hours of Public Service</th>\n",
       "    </tr>\n",
       "  </thead>\n",
       "  <tbody>\n",
       "    <tr>\n",
       "      <th>0</th>\n",
       "      <td>Manhattan</td>\n",
       "      <td>Countee Cullen Network</td>\n",
       "      <td>67th Street</td>\n",
       "      <td>146.0</td>\n",
       "      <td>1298.0</td>\n",
       "      <td>80.0</td>\n",
       "      <td>884.0</td>\n",
       "      <td>253.0</td>\n",
       "      <td>9004.0</td>\n",
       "      <td>71.0</td>\n",
       "      <td>...</td>\n",
       "      <td>12020.0</td>\n",
       "      <td>66209.0</td>\n",
       "      <td>3497.0</td>\n",
       "      <td>5343.0</td>\n",
       "      <td>75049.0</td>\n",
       "      <td>173087.0</td>\n",
       "      <td>20149.0</td>\n",
       "      <td>112878.0</td>\n",
       "      <td>306114.0</td>\n",
       "      <td>42.0</td>\n",
       "    </tr>\n",
       "    <tr>\n",
       "      <th>1</th>\n",
       "      <td>Manhattan</td>\n",
       "      <td>Countee Cullen Network</td>\n",
       "      <td>96th Street</td>\n",
       "      <td>154.0</td>\n",
       "      <td>2466.0</td>\n",
       "      <td>90.0</td>\n",
       "      <td>1710.0</td>\n",
       "      <td>276.0</td>\n",
       "      <td>8470.0</td>\n",
       "      <td>28.0</td>\n",
       "      <td>...</td>\n",
       "      <td>13352.0</td>\n",
       "      <td>71448.0</td>\n",
       "      <td>19591.0</td>\n",
       "      <td>9503.0</td>\n",
       "      <td>100542.0</td>\n",
       "      <td>228111.0</td>\n",
       "      <td>39402.0</td>\n",
       "      <td>105718.0</td>\n",
       "      <td>373231.0</td>\n",
       "      <td>50.0</td>\n",
       "    </tr>\n",
       "    <tr>\n",
       "      <th>2</th>\n",
       "      <td>Manhattan</td>\n",
       "      <td>Countee Cullen Network</td>\n",
       "      <td>115th Street</td>\n",
       "      <td>53.0</td>\n",
       "      <td>497.0</td>\n",
       "      <td>75.0</td>\n",
       "      <td>1036.0</td>\n",
       "      <td>142.0</td>\n",
       "      <td>5382.0</td>\n",
       "      <td>12.0</td>\n",
       "      <td>...</td>\n",
       "      <td>7623.0</td>\n",
       "      <td>14924.0</td>\n",
       "      <td>3471.0</td>\n",
       "      <td>6903.0</td>\n",
       "      <td>25298.0</td>\n",
       "      <td>77833.0</td>\n",
       "      <td>16783.0</td>\n",
       "      <td>65517.0</td>\n",
       "      <td>160133.0</td>\n",
       "      <td>42.0</td>\n",
       "    </tr>\n",
       "    <tr>\n",
       "      <th>3</th>\n",
       "      <td>Manhattan</td>\n",
       "      <td>Countee Cullen Network</td>\n",
       "      <td>125th Street</td>\n",
       "      <td>116.0</td>\n",
       "      <td>1008.0</td>\n",
       "      <td>46.0</td>\n",
       "      <td>345.0</td>\n",
       "      <td>142.0</td>\n",
       "      <td>1311.0</td>\n",
       "      <td>67.0</td>\n",
       "      <td>...</td>\n",
       "      <td>3679.0</td>\n",
       "      <td>23400.0</td>\n",
       "      <td>8632.0</td>\n",
       "      <td>11479.0</td>\n",
       "      <td>43511.0</td>\n",
       "      <td>45516.0</td>\n",
       "      <td>14352.0</td>\n",
       "      <td>20366.0</td>\n",
       "      <td>80234.0</td>\n",
       "      <td>42.0</td>\n",
       "    </tr>\n",
       "    <tr>\n",
       "      <th>4</th>\n",
       "      <td>Manhattan</td>\n",
       "      <td>Countee Cullen Network</td>\n",
       "      <td>Aguilar</td>\n",
       "      <td>29.0</td>\n",
       "      <td>524.0</td>\n",
       "      <td>28.0</td>\n",
       "      <td>450.0</td>\n",
       "      <td>364.0</td>\n",
       "      <td>8143.0</td>\n",
       "      <td>247.0</td>\n",
       "      <td>...</td>\n",
       "      <td>12460.0</td>\n",
       "      <td>34502.0</td>\n",
       "      <td>9711.0</td>\n",
       "      <td>21281.0</td>\n",
       "      <td>65494.0</td>\n",
       "      <td>92228.0</td>\n",
       "      <td>26945.0</td>\n",
       "      <td>89477.0</td>\n",
       "      <td>208650.0</td>\n",
       "      <td>44.0</td>\n",
       "    </tr>\n",
       "  </tbody>\n",
       "</table>\n",
       "<p>5 rows × 22 columns</p>\n",
       "</div>"
      ],
      "text/plain": [
       "  Boro/Central Library                 Network         Branch  ADULT Program  \\\n",
       "0            Manhattan  Countee Cullen Network   67th Street           146.0   \n",
       "1            Manhattan  Countee Cullen Network    96th Street          154.0   \n",
       "2            Manhattan  Countee Cullen Network  115th Street            53.0   \n",
       "3            Manhattan  Countee Cullen Network   125th Street          116.0   \n",
       "4            Manhattan  Countee Cullen Network        Aguilar           29.0   \n",
       "\n",
       "   ADULT Attendance  YOUNG ADULT Program  YOUNG ADULT Attendance  \\\n",
       "0            1298.0                 80.0                   884.0   \n",
       "1            2466.0                 90.0                  1710.0   \n",
       "2             497.0                 75.0                  1036.0   \n",
       "3            1008.0                 46.0                   345.0   \n",
       "4             524.0                 28.0                   450.0   \n",
       "\n",
       "   JUVENILE Program  JUVENILE Attendance  OUTREACH SERVICES Program  \\\n",
       "0             253.0               9004.0                       71.0   \n",
       "1             276.0               8470.0                       28.0   \n",
       "2             142.0               5382.0                       12.0   \n",
       "3             142.0               1311.0                       67.0   \n",
       "4             364.0               8143.0                      247.0   \n",
       "\n",
       "                ...                 TOTAL Attendance  \\\n",
       "0               ...                          12020.0   \n",
       "1               ...                          13352.0   \n",
       "2               ...                           7623.0   \n",
       "3               ...                           3679.0   \n",
       "4               ...                          12460.0   \n",
       "\n",
       "    REFERENCE TRANSACTIONS Adult   REFERENCE TRANSACTIONS Young Adult  \\\n",
       "0                        66209.0                               3497.0   \n",
       "1                        71448.0                              19591.0   \n",
       "2                        14924.0                               3471.0   \n",
       "3                        23400.0                               8632.0   \n",
       "4                        34502.0                               9711.0   \n",
       "\n",
       "    REFERENCE TRANSACTIONS Juvenile   REFERENCE TRANSACTIONS  \\\n",
       "0                            5343.0                  75049.0   \n",
       "1                            9503.0                 100542.0   \n",
       "2                            6903.0                  25298.0   \n",
       "3                           11479.0                  43511.0   \n",
       "4                           21281.0                  65494.0   \n",
       "\n",
       "   CIRCULATION Adult  CIRCULATION Young Adult  CIRCULATION Juvenile  \\\n",
       "0           173087.0                  20149.0              112878.0   \n",
       "1           228111.0                  39402.0              105718.0   \n",
       "2            77833.0                  16783.0               65517.0   \n",
       "3            45516.0                  14352.0               20366.0   \n",
       "4            92228.0                  26945.0               89477.0   \n",
       "\n",
       "   CIRCULATION  Weekly Hours of Public Service  \n",
       "0     306114.0                            42.0  \n",
       "1     373231.0                            50.0  \n",
       "2     160133.0                            42.0  \n",
       "3      80234.0                            42.0  \n",
       "4     208650.0                            44.0  \n",
       "\n",
       "[5 rows x 22 columns]"
      ]
     },
     "execution_count": 9,
     "metadata": {},
     "output_type": "execute_result"
    }
   ],
   "source": [
    "datalib.head()\n"
   ]
  },
  {
   "cell_type": "code",
   "execution_count": 11,
   "metadata": {
    "collapsed": false
   },
   "outputs": [],
   "source": [
    "datalib_cut=datalib.filter([\"ADULT Program\",\"ADULT Attendance\"],axis=1)\n"
   ]
  },
  {
   "cell_type": "code",
   "execution_count": 12,
   "metadata": {
    "collapsed": false
   },
   "outputs": [
    {
     "data": {
      "text/html": [
       "<div>\n",
       "<table border=\"1\" class=\"dataframe\">\n",
       "  <thead>\n",
       "    <tr style=\"text-align: right;\">\n",
       "      <th></th>\n",
       "      <th>ADULT Program</th>\n",
       "      <th>ADULT Attendance</th>\n",
       "    </tr>\n",
       "  </thead>\n",
       "  <tbody>\n",
       "    <tr>\n",
       "      <th>0</th>\n",
       "      <td>146.0</td>\n",
       "      <td>1298.0</td>\n",
       "    </tr>\n",
       "    <tr>\n",
       "      <th>1</th>\n",
       "      <td>154.0</td>\n",
       "      <td>2466.0</td>\n",
       "    </tr>\n",
       "    <tr>\n",
       "      <th>2</th>\n",
       "      <td>53.0</td>\n",
       "      <td>497.0</td>\n",
       "    </tr>\n",
       "    <tr>\n",
       "      <th>3</th>\n",
       "      <td>116.0</td>\n",
       "      <td>1008.0</td>\n",
       "    </tr>\n",
       "    <tr>\n",
       "      <th>4</th>\n",
       "      <td>29.0</td>\n",
       "      <td>524.0</td>\n",
       "    </tr>\n",
       "  </tbody>\n",
       "</table>\n",
       "</div>"
      ],
      "text/plain": [
       "   ADULT Program  ADULT Attendance\n",
       "0          146.0            1298.0\n",
       "1          154.0            2466.0\n",
       "2           53.0             497.0\n",
       "3          116.0            1008.0\n",
       "4           29.0             524.0"
      ]
     },
     "execution_count": 12,
     "metadata": {},
     "output_type": "execute_result"
    }
   ],
   "source": [
    "datalib_cut.head()\n"
   ]
  },
  {
   "cell_type": "code",
   "execution_count": 14,
   "metadata": {
    "collapsed": false
   },
   "outputs": [
    {
     "data": {
      "text/plain": [
       "<matplotlib.text.Text at 0x7f5f8aba3550>"
      ]
     },
     "execution_count": 14,
     "metadata": {},
     "output_type": "execute_result"
    },
    {
     "data": {
      "image/png": "[encoded data removed]",
      "text/plain": [
       "<matplotlib.figure.Figure at 0x7f5fb4d45fd0>"
      ]
     },
     "metadata": {},
     "output_type": "display_data"
    }
   ],
   "source": [
    "pl.figure()\n",
    "x=datalib_cut[\"ADULT Program\"]\n",
    "y=datalib_cut[\"ADULT Attendance\"]\n",
    "\n",
    "#rcParams[\"figure.figsize\"]=10,10\n",
    "pl.plot(x,y,\"ro\")\n",
    "#pl.axis([0,2000,0,5000])  to see figure without outliers and better identify trend\n",
    "pl.ylabel(\"Adult Attendance\",fontsize=15)\n",
    "pl.xlabel(\"Adult Program\",fontsize=15)\n",
    "pl.title(\"Scatter Plot Attendance vs Program\",fontsize=20)"
   ]
  },
  {
   "cell_type": "code",
   "execution_count": null,
   "metadata": {
    "collapsed": true
   },
   "outputs": [],
   "source": []
  }
 ],
 "metadata": {
  "kernelspec": {
   "display_name": "PUI2016_Python3",
   "language": "python",
   "name": "pui2016_python3"
  },
  "language_info": {
   "codemirror_mode": {
    "name": "ipython",
    "version": 3
   },
   "file_extension": ".py",
   "mimetype": "text/x-python",
   "name": "python",
   "nbconvert_exporter": "python",
   "pygments_lexer": "ipython3",
   "version": "3.5.2"
  }
 },
 "nbformat": 4,
 "nbformat_minor": 0
}
